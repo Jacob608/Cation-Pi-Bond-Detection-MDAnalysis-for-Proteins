{
 "cells": [
  {
   "cell_type": "markdown",
   "metadata": {},
   "source": [
    "# Calculating Protein Cation-Pi and Pi-PiBonds"
   ]
  },
  {
   "cell_type": "markdown",
   "metadata": {},
   "source": [
    "We identify cation-pi and pi-pi bonds for a 38 residue long protein in 150 mmol NaCl.\n",
    "\n",
    "The sequence is KAKKYYYKYKNSGKYKYLKKARKYHRKGYKKYYGGGSS, which is half of the total sequence for mussel foot protein 5 of the Mediterranean mussel, *Mytilus galloprovincialis*."
   ]
  },
  {
   "cell_type": "markdown",
   "metadata": {},
   "source": [
    "Packages Required:\n",
    "\n",
    "- MDAnalysis\n",
    "- matplotlib\n",
    "- os"
   ]
  },
  {
   "cell_type": "code",
   "execution_count": 23,
   "metadata": {},
   "outputs": [],
   "source": [
    "from cation_pi_analysis import CationPiBondAnalysis\n",
    "import MDAnalysis as mda\n",
    "import matplotlib.pyplot as plt\n",
    "import os"
   ]
  },
  {
   "cell_type": "markdown",
   "metadata": {},
   "source": [
    "## Establish a Directory to Save Output Files"
   ]
  },
  {
   "cell_type": "code",
   "execution_count": 24,
   "metadata": {},
   "outputs": [],
   "source": [
    "out_path = f'{os.getcwd()}/cation_pi_analysis_demo_out'\n",
    "if os.path.exists(out_path) == False:\n",
    "    os.mkdir(out_path)"
   ]
  },
  {
   "cell_type": "markdown",
   "metadata": {},
   "source": [
    "## Loading Trajectory into Universe"
   ]
  },
  {
   "cell_type": "code",
   "execution_count": 25,
   "metadata": {},
   "outputs": [],
   "source": [
    "project_path = f\"{os.getcwd()}/demo_trajectory\"\n",
    "psf_in=f'{project_path}/ionized.psf'\n",
    "dcd_in=f'{project_path}/trajectory.dcd'\n",
    "u = mda.Universe(psf_in, dcd_in, in_memory=True, dt=2500)"
   ]
  },
  {
   "cell_type": "markdown",
   "metadata": {},
   "source": [
    "## Find cation-pi bonds"
   ]
  },
  {
   "cell_type": "markdown",
   "metadata": {},
   "source": [
    "The CationPiBondAnalysis class requires passing a pi system atom selection (`pi_sel`), a distance cutoff, and a cation atom selection (`cations_sel`) to `CationPiBondAnalysis`. "
   ]
  },
  {
   "cell_type": "markdown",
   "metadata": {},
   "source": [
    "In the following cell, `pi_sel=\"resname TYR and (name CG CD1 CD2 CE1 CE2 CZ)\"` will select atoms in the pi system of tyrosine's sidechain. `cations_sel=\"(resname LYS and name NZ) or (resname ARG and name CZ)\"` will select atoms in the sidechains of lysine and arginine that carry a net positive charge of +1. `c_p_cutoff` is set to 5.0, which is the minimum distances between the average position of atoms in each ring and an atom in cation sel to detect a cation pi bond.\n",
    "\n",
    "Currently, angle of sidechain interaction is not taken into account, but may be added by the user."
   ]
  },
  {
   "cell_type": "code",
   "execution_count": 26,
   "metadata": {},
   "outputs": [],
   "source": [
    "cation_pi_bonds = CationPiBondAnalysis(\n",
    "    universe=u,\n",
    "    pi_sel=\"resname TYR and (name CG CD1 CD2 CE1 CE2 CZ)\",\n",
    "    cations_sel=\"(resname LYS and name NZ) or (resname ARG and name CZ)\",\n",
    "    c_p_cutoff=5.0,\n",
    "    update_selections=True\n",
    ")"
   ]
  },
  {
   "cell_type": "markdown",
   "metadata": {},
   "source": [
    "We then use the `run()` method to perform the analysis. If we do not set the `start`, `stop`, and `step` for frames to analyse, all frames will be used."
   ]
  },
  {
   "cell_type": "code",
   "execution_count": 27,
   "metadata": {
    "scrolled": false
   },
   "outputs": [
    {
     "data": {
      "application/vnd.jupyter.widget-view+json": {
       "model_id": "cfb0617796ed4d8a8c8d88ef42da5718",
       "version_major": 2,
       "version_minor": 0
      },
      "text/plain": [
       "  0%|          | 0/60 [00:00<?, ?it/s]"
      ]
     },
     "metadata": {},
     "output_type": "display_data"
    },
    {
     "data": {
      "text/plain": [
       "<cation_pi_analysis.CationPiBondAnalysis at 0x7f9f1d8bd070>"
      ]
     },
     "execution_count": 27,
     "metadata": {},
     "output_type": "execute_result"
    }
   ],
   "source": [
    "cation_pi_bonds.run(verbose=True,\n",
    "                         start=None,\n",
    "                         stop=None,\n",
    "                         step=1)"
   ]
  },
  {
   "cell_type": "markdown",
   "metadata": {},
   "source": [
    "## Accessing the results"
   ]
  },
  {
   "cell_type": "markdown",
   "metadata": {},
   "source": [
    "Cation pi bond data are returned in a `numpy.ndarray` on a \"one line, one observation\" basis which can be accessed via `CationPiBondAnalysis.results['cation_pi_bonds']`. "
   ]
  },
  {
   "cell_type": "raw",
   "metadata": {},
   "source": [
    "results = [\n",
    "    [\n",
    "        <frame>,\n",
    "        <atom selection containing cation atom>,\n",
    "        <atom group containg the 6 members of the pi ring>,\n",
    "        <distance between cation atom and the centroid of the pi ring>\n",
    "    ]\n",
    "]"
   ]
  },
  {
   "cell_type": "markdown",
   "metadata": {},
   "source": [
    "The total count of cation pi bonds at each frame can be accessed via `CationPiBondAnalysis.results['cation_pi_bond_counts']` which lists the total number of cation pi bonds detected in each frame.\n",
    "\n",
    "The corresponding time can be accessed via `CationPiBondAnalysis.times`."
   ]
  },
  {
   "cell_type": "markdown",
   "metadata": {},
   "source": [
    "### Example"
   ]
  },
  {
   "cell_type": "code",
   "execution_count": 28,
   "metadata": {
    "scrolled": true
   },
   "outputs": [
    {
     "data": {
      "text/plain": [
       "array([[0, <Atom 19: NZ of type NH3 of resname LYS, resid 1 and segid U>,\n",
       "        <AtomGroup with 6 atoms>, 3.0210554583620968],\n",
       "       [0,\n",
       "        <Atom 158: NZ of type NH3 of resname LYS, resid 8 and segid U>,\n",
       "        <AtomGroup with 6 atoms>, 3.179213124417567],\n",
       "       [0,\n",
       "        <Atom 201: NZ of type NH3 of resname LYS, resid 10 and segid U>,\n",
       "        <AtomGroup with 6 atoms>, 3.579311915784522],\n",
       "       ...,\n",
       "       [59,\n",
       "        <Atom 497: CZ of type CAG of resname ARG, resid 26 and segid U>,\n",
       "        <AtomGroup with 6 atoms>, 4.98737972398087],\n",
       "       [59,\n",
       "        <Atom 497: CZ of type CAG of resname ARG, resid 26 and segid U>,\n",
       "        <AtomGroup with 6 atoms>, 4.1158151108336165],\n",
       "       [59,\n",
       "        <Atom 594: NZ of type NH3 of resname LYS, resid 31 and segid U>,\n",
       "        <AtomGroup with 6 atoms>, 3.66391105921277]], dtype=object)"
      ]
     },
     "execution_count": 28,
     "metadata": {},
     "output_type": "execute_result"
    }
   ],
   "source": [
    "cation_pi_bonds.results['cation_pi_bonds']"
   ]
  },
  {
   "cell_type": "code",
   "execution_count": 29,
   "metadata": {
    "scrolled": true
   },
   "outputs": [
    {
     "data": {
      "text/plain": [
       "[8,\n",
       " 8,\n",
       " 5,\n",
       " 6,\n",
       " 5,\n",
       " 5,\n",
       " 5,\n",
       " 6,\n",
       " 4,\n",
       " 4,\n",
       " 4,\n",
       " 4,\n",
       " 3,\n",
       " 4,\n",
       " 6,\n",
       " 6,\n",
       " 9,\n",
       " 5,\n",
       " 6,\n",
       " 4,\n",
       " 6,\n",
       " 7,\n",
       " 4,\n",
       " 7,\n",
       " 6,\n",
       " 7,\n",
       " 7,\n",
       " 7,\n",
       " 5,\n",
       " 5,\n",
       " 5,\n",
       " 4,\n",
       " 5,\n",
       " 5,\n",
       " 5,\n",
       " 6,\n",
       " 6,\n",
       " 5,\n",
       " 7,\n",
       " 5,\n",
       " 5,\n",
       " 6,\n",
       " 6,\n",
       " 5,\n",
       " 6,\n",
       " 4,\n",
       " 6,\n",
       " 6,\n",
       " 7,\n",
       " 8,\n",
       " 5,\n",
       " 4,\n",
       " 6,\n",
       " 5,\n",
       " 5,\n",
       " 5,\n",
       " 7,\n",
       " 3,\n",
       " 3,\n",
       " 7]"
      ]
     },
     "execution_count": 29,
     "metadata": {},
     "output_type": "execute_result"
    }
   ],
   "source": [
    "cation_pi_bonds.results['cation_pi_bond_counts']"
   ]
  },
  {
   "cell_type": "code",
   "execution_count": 30,
   "metadata": {},
   "outputs": [
    {
     "data": {
      "text/plain": [
       "array([     0.,   2500.,   5000.,   7500.,  10000.,  12500.,  15000.,\n",
       "        17500.,  20000.,  22500.,  25000.,  27500.,  30000.,  32500.,\n",
       "        35000.,  37500.,  40000.,  42500.,  45000.,  47500.,  50000.,\n",
       "        52500.,  55000.,  57500.,  60000.,  62500.,  65000.,  67500.,\n",
       "        70000.,  72500.,  75000.,  77500.,  80000.,  82500.,  85000.,\n",
       "        87500.,  90000.,  92500.,  95000.,  97500., 100000., 102500.,\n",
       "       105000., 107500., 110000., 112500., 115000., 117500., 120000.,\n",
       "       122500., 125000., 127500., 130000., 132500., 135000., 137500.,\n",
       "       140000., 142500., 145000., 147500.])"
      ]
     },
     "execution_count": 30,
     "metadata": {},
     "output_type": "execute_result"
    }
   ],
   "source": [
    "cation_pi_bonds.times"
   ]
  },
  {
   "cell_type": "markdown",
   "metadata": {},
   "source": [
    "## Plotting the Results"
   ]
  },
  {
   "cell_type": "markdown",
   "metadata": {},
   "source": [
    "The total number of cation pi bonds detected at each frame is plotted below."
   ]
  },
  {
   "cell_type": "code",
   "execution_count": 31,
   "metadata": {},
   "outputs": [
    {
     "data": {
      "image/png": "[encoded data removed]",
      "text/plain": [
       "<Figure size 720x288 with 1 Axes>"
      ]
     },
     "metadata": {
      "needs_background": "light"
     },
     "output_type": "display_data"
    }
   ],
   "source": [
    "fig = plt.figure(figsize=([10,4]))\n",
    "plt.plot(cation_pi_bonds.times/1000, cation_pi_bonds.results['cation_pi_bond_counts'])\n",
    "plt.axhline(y=sum(cation_pi_bonds.results['cation_pi_bond_counts'])/len(cation_pi_bonds.results['cation_pi_bond_counts']),label=None,c='blue')\n",
    "plt.xlabel('Time (ns)',fontweight='bold',fontsize=16)\n",
    "plt.ylabel(f'Cation-\\u03C0 Bond Count',fontweight='bold',fontsize=16)\n",
    "plt.ylim([0,10])\n",
    "plt.xlim([0,150])\n",
    "plt.xticks(fontsize=14)\n",
    "plt.yticks(fontsize=14)\n",
    "plt.tight_layout()\n",
    "plt.savefig(f'{out_path}/cation_pi_150ns_plot.jpeg') # Print plot to {out_path}/cation_pi_150ns_plot.jpeg\n",
    "plt.show()"
   ]
  },
  {
   "cell_type": "markdown",
   "metadata": {},
   "source": [
    "# Find Pi-Pi Bonds"
   ]
  },
  {
   "cell_type": "code",
   "execution_count": 32,
   "metadata": {},
   "outputs": [],
   "source": [
    "from pi_pi_analysis import PiPiBondAnalysis"
   ]
  },
  {
   "cell_type": "markdown",
   "metadata": {},
   "source": [
    "## Find pi-pi bonds"
   ]
  },
  {
   "cell_type": "markdown",
   "metadata": {},
   "source": [
    "The PiPiBondAnalysis class requires passing a pi system atom selection (`pi_sel`) and distance cutoff to `PiPiBondAnalysis`. "
   ]
  },
  {
   "cell_type": "markdown",
   "metadata": {},
   "source": [
    "In the following cell, `pi_sel=\"resname TYR and (name CG CD1 CD2 CE1 CE2 CZ)\"` will select atoms in the pi system of tyrosine's sidechain. `p_p_cutoff` is set to 6.0, which is the minimum distances between the centroid (average position of atoms) of two rings to detect a pi pi bond.\n",
    "\n",
    "Currently, angle of sidechain interaction is not taken into account, but may be added by the user."
   ]
  },
  {
   "cell_type": "code",
   "execution_count": 33,
   "metadata": {},
   "outputs": [],
   "source": [
    "pi_pi_bonds = PiPiBondAnalysis(\n",
    "    universe=u,\n",
    "    pi_sel=\"resname TYR and (name CG CD1 CD2 CE1 CE2 CZ)\",\n",
    "    p_p_cutoff=6.0,\n",
    "    update_selections=True\n",
    ")"
   ]
  },
  {
   "cell_type": "markdown",
   "metadata": {},
   "source": [
    "We then use the `run()` method to perform the analysis. If we do not set the `start`, `stop`, and `step` for frames to analyse, all frames will be used."
   ]
  },
  {
   "cell_type": "code",
   "execution_count": 34,
   "metadata": {
    "scrolled": true
   },
   "outputs": [
    {
     "data": {
      "application/vnd.jupyter.widget-view+json": {
       "model_id": "afa8193e422f41d6bf5dcab76bff8438",
       "version_major": 2,
       "version_minor": 0
      },
      "text/plain": [
       "  0%|          | 0/60 [00:00<?, ?it/s]"
      ]
     },
     "metadata": {},
     "output_type": "display_data"
    },
    {
     "name": "stderr",
     "output_type": "stream",
     "text": [
      "/Users/Jacob/Desktop/mdanalysis_protein_cation_pi_bond_detection/pi_pi_analysis.py:125: UserWarning: No pi pi bonds were found given p-p cutoff of 6.0 for Pi System, resname TYR and (name CG CD1 CD2 CE1 CE2 CZ) at step < Timestep 0 with unit cell dimensions [82.559296 76.60282  71.66238  90.       90.       90.      ] >.\n",
      "  warnings.warn(\n",
      "/Users/Jacob/Desktop/mdanalysis_protein_cation_pi_bond_detection/pi_pi_analysis.py:125: UserWarning: No pi pi bonds were found given p-p cutoff of 6.0 for Pi System, resname TYR and (name CG CD1 CD2 CE1 CE2 CZ) at step < Timestep 1 with unit cell dimensions [82.49138 76.5398  71.60342 90.      90.      90.     ] >.\n",
      "  warnings.warn(\n",
      "/Users/Jacob/Desktop/mdanalysis_protein_cation_pi_bond_detection/pi_pi_analysis.py:125: UserWarning: No pi pi bonds were found given p-p cutoff of 6.0 for Pi System, resname TYR and (name CG CD1 CD2 CE1 CE2 CZ) at step < Timestep 6 with unit cell dimensions [82.4835   76.532486 71.59658  90.       90.       90.      ] >.\n",
      "  warnings.warn(\n",
      "/Users/Jacob/Desktop/mdanalysis_protein_cation_pi_bond_detection/pi_pi_analysis.py:125: UserWarning: No pi pi bonds were found given p-p cutoff of 6.0 for Pi System, resname TYR and (name CG CD1 CD2 CE1 CE2 CZ) at step < Timestep 12 with unit cell dimensions [82.50117  76.54888  71.611916 90.       90.       90.      ] >.\n",
      "  warnings.warn(\n",
      "/Users/Jacob/Desktop/mdanalysis_protein_cation_pi_bond_detection/pi_pi_analysis.py:125: UserWarning: No pi pi bonds were found given p-p cutoff of 6.0 for Pi System, resname TYR and (name CG CD1 CD2 CE1 CE2 CZ) at step < Timestep 18 with unit cell dimensions [82.50961 76.55672 71.61924 90.      90.      90.     ] >.\n",
      "  warnings.warn(\n",
      "/Users/Jacob/Desktop/mdanalysis_protein_cation_pi_bond_detection/pi_pi_analysis.py:125: UserWarning: No pi pi bonds were found given p-p cutoff of 6.0 for Pi System, resname TYR and (name CG CD1 CD2 CE1 CE2 CZ) at step < Timestep 19 with unit cell dimensions [82.45018 76.50158 71.56766 90.      90.      90.     ] >.\n",
      "  warnings.warn(\n",
      "/Users/Jacob/Desktop/mdanalysis_protein_cation_pi_bond_detection/pi_pi_analysis.py:125: UserWarning: No pi pi bonds were found given p-p cutoff of 6.0 for Pi System, resname TYR and (name CG CD1 CD2 CE1 CE2 CZ) at step < Timestep 20 with unit cell dimensions [82.457756 76.5086   71.574234 90.       90.       90.      ] >.\n",
      "  warnings.warn(\n",
      "/Users/Jacob/Desktop/mdanalysis_protein_cation_pi_bond_detection/pi_pi_analysis.py:125: UserWarning: No pi pi bonds were found given p-p cutoff of 6.0 for Pi System, resname TYR and (name CG CD1 CD2 CE1 CE2 CZ) at step < Timestep 24 with unit cell dimensions [82.55327  76.59722  71.657135 90.       90.       90.      ] >.\n",
      "  warnings.warn(\n",
      "/Users/Jacob/Desktop/mdanalysis_protein_cation_pi_bond_detection/pi_pi_analysis.py:125: UserWarning: No pi pi bonds were found given p-p cutoff of 6.0 for Pi System, resname TYR and (name CG CD1 CD2 CE1 CE2 CZ) at step < Timestep 30 with unit cell dimensions [82.65992 76.69618 71.74972 90.      90.      90.     ] >.\n",
      "  warnings.warn(\n",
      "/Users/Jacob/Desktop/mdanalysis_protein_cation_pi_bond_detection/pi_pi_analysis.py:125: UserWarning: No pi pi bonds were found given p-p cutoff of 6.0 for Pi System, resname TYR and (name CG CD1 CD2 CE1 CE2 CZ) at step < Timestep 34 with unit cell dimensions [82.49727  76.545265 71.60853  90.       90.       90.      ] >.\n",
      "  warnings.warn(\n",
      "/Users/Jacob/Desktop/mdanalysis_protein_cation_pi_bond_detection/pi_pi_analysis.py:125: UserWarning: No pi pi bonds were found given p-p cutoff of 6.0 for Pi System, resname TYR and (name CG CD1 CD2 CE1 CE2 CZ) at step < Timestep 36 with unit cell dimensions [82.47906  76.528366 71.59272  90.       90.       90.      ] >.\n",
      "  warnings.warn(\n",
      "/Users/Jacob/Desktop/mdanalysis_protein_cation_pi_bond_detection/pi_pi_analysis.py:125: UserWarning: No pi pi bonds were found given p-p cutoff of 6.0 for Pi System, resname TYR and (name CG CD1 CD2 CE1 CE2 CZ) at step < Timestep 42 with unit cell dimensions [82.57041 76.61313 71.67202 90.      90.      90.     ] >.\n",
      "  warnings.warn(\n",
      "/Users/Jacob/Desktop/mdanalysis_protein_cation_pi_bond_detection/pi_pi_analysis.py:125: UserWarning: No pi pi bonds were found given p-p cutoff of 6.0 for Pi System, resname TYR and (name CG CD1 CD2 CE1 CE2 CZ) at step < Timestep 53 with unit cell dimensions [82.45991  76.510605 71.5761   90.       90.       90.      ] >.\n",
      "  warnings.warn(\n",
      "/Users/Jacob/Desktop/mdanalysis_protein_cation_pi_bond_detection/pi_pi_analysis.py:125: UserWarning: No pi pi bonds were found given p-p cutoff of 6.0 for Pi System, resname TYR and (name CG CD1 CD2 CE1 CE2 CZ) at step < Timestep 54 with unit cell dimensions [82.51979  76.56616  71.628075 90.       90.       90.      ] >.\n",
      "  warnings.warn(\n"
     ]
    },
    {
     "data": {
      "text/plain": [
       "<pi_pi_analysis.PiPiBondAnalysis at 0x7f9f1db45af0>"
      ]
     },
     "execution_count": 34,
     "metadata": {},
     "output_type": "execute_result"
    }
   ],
   "source": [
    "pi_pi_bonds.run(verbose=True,\n",
    "                         start=None,\n",
    "                         stop=None,\n",
    "                         step=1)"
   ]
  },
  {
   "cell_type": "markdown",
   "metadata": {},
   "source": [
    "## Accessing the results"
   ]
  },
  {
   "cell_type": "markdown",
   "metadata": {},
   "source": [
    "Pi pi bond data are returned in a `numpy.ndarray` on a \"one line, one observation\" basis which can be accessed via `PiPiBondAnalysis.results['pi_pi_bonds']`. "
   ]
  },
  {
   "cell_type": "raw",
   "metadata": {},
   "source": [
    "results = [\n",
    "    [\n",
    "        <frame>,\n",
    "        <atom group containing the 6 members of one bonding pi ring>,\n",
    "        <atom group containing the 6 members of one bonding pi ring>,\n",
    "        <distance between the centroids of two pi rings>\n",
    "    ]\n",
    "]"
   ]
  },
  {
   "cell_type": "markdown",
   "metadata": {},
   "source": [
    "The total count of pi pi bonds at each frame can be accessed via `PiPiBondAnalysis.results['pi_pi_bond_counts']` which lists the total number of pi pi bonds detected in each frame.\n",
    "\n",
    "The corresponding time can be accessed via `PiPiBondAnalysis.times`."
   ]
  },
  {
   "cell_type": "markdown",
   "metadata": {},
   "source": [
    "### Example"
   ]
  },
  {
   "cell_type": "code",
   "execution_count": 35,
   "metadata": {
    "scrolled": true
   },
   "outputs": [
    {
     "data": {
      "text/plain": [
       "array([[2.0, <AtomGroup with 6 atoms>, <AtomGroup with 6 atoms>,\n",
       "        5.855235365295239],\n",
       "       [2.0, <AtomGroup with 6 atoms>, <AtomGroup with 6 atoms>,\n",
       "        5.894844930828925],\n",
       "       [3.0, <AtomGroup with 6 atoms>, <AtomGroup with 6 atoms>,\n",
       "        5.583524924971388],\n",
       "       [4.0, <AtomGroup with 6 atoms>, <AtomGroup with 6 atoms>,\n",
       "        5.458810801497574],\n",
       "       [4.0, <AtomGroup with 6 atoms>, <AtomGroup with 6 atoms>,\n",
       "        4.687440090591191],\n",
       "       [5.0, <AtomGroup with 6 atoms>, <AtomGroup with 6 atoms>,\n",
       "        5.62352492292816],\n",
       "       [5.0, <AtomGroup with 6 atoms>, <AtomGroup with 6 atoms>,\n",
       "        5.393935453984969],\n",
       "       [5.0, <AtomGroup with 6 atoms>, <AtomGroup with 6 atoms>,\n",
       "        5.013175543269014],\n",
       "       [7.0, <AtomGroup with 6 atoms>, <AtomGroup with 6 atoms>,\n",
       "        5.939080037819327],\n",
       "       [8.0, <AtomGroup with 6 atoms>, <AtomGroup with 6 atoms>,\n",
       "        5.133071539399256],\n",
       "       [8.0, <AtomGroup with 6 atoms>, <AtomGroup with 6 atoms>,\n",
       "        5.8392854192766634],\n",
       "       [8.0, <AtomGroup with 6 atoms>, <AtomGroup with 6 atoms>,\n",
       "        4.6937247385707295],\n",
       "       [9.0, <AtomGroup with 6 atoms>, <AtomGroup with 6 atoms>,\n",
       "        5.373696410912508],\n",
       "       [9.0, <AtomGroup with 6 atoms>, <AtomGroup with 6 atoms>,\n",
       "        5.350445702839883],\n",
       "       [10.0, <AtomGroup with 6 atoms>, <AtomGroup with 6 atoms>,\n",
       "        5.545546776156361],\n",
       "       [10.0, <AtomGroup with 6 atoms>, <AtomGroup with 6 atoms>,\n",
       "        5.260358746164677],\n",
       "       [11.0, <AtomGroup with 6 atoms>, <AtomGroup with 6 atoms>,\n",
       "        4.92215481562767],\n",
       "       [13.0, <AtomGroup with 6 atoms>, <AtomGroup with 6 atoms>,\n",
       "        5.449287081687008],\n",
       "       [14.0, <AtomGroup with 6 atoms>, <AtomGroup with 6 atoms>,\n",
       "        5.445984287012569],\n",
       "       [15.0, <AtomGroup with 6 atoms>, <AtomGroup with 6 atoms>,\n",
       "        5.7932346362728655],\n",
       "       [16.0, <AtomGroup with 6 atoms>, <AtomGroup with 6 atoms>,\n",
       "        5.700845060885043],\n",
       "       [17.0, <AtomGroup with 6 atoms>, <AtomGroup with 6 atoms>,\n",
       "        4.821060049134017],\n",
       "       [21.0, <AtomGroup with 6 atoms>, <AtomGroup with 6 atoms>,\n",
       "        5.8206418632389685],\n",
       "       [21.0, <AtomGroup with 6 atoms>, <AtomGroup with 6 atoms>,\n",
       "        4.6859371944085515],\n",
       "       [22.0, <AtomGroup with 6 atoms>, <AtomGroup with 6 atoms>,\n",
       "        5.2233287722442565],\n",
       "       [23.0, <AtomGroup with 6 atoms>, <AtomGroup with 6 atoms>,\n",
       "        4.998699406543204],\n",
       "       [25.0, <AtomGroup with 6 atoms>, <AtomGroup with 6 atoms>,\n",
       "        5.898162870721724],\n",
       "       [26.0, <AtomGroup with 6 atoms>, <AtomGroup with 6 atoms>,\n",
       "        4.257589502452718],\n",
       "       [27.0, <AtomGroup with 6 atoms>, <AtomGroup with 6 atoms>,\n",
       "        4.476073252691132],\n",
       "       [28.0, <AtomGroup with 6 atoms>, <AtomGroup with 6 atoms>,\n",
       "        5.705694615007447],\n",
       "       [29.0, <AtomGroup with 6 atoms>, <AtomGroup with 6 atoms>,\n",
       "        4.642556660406206],\n",
       "       [31.0, <AtomGroup with 6 atoms>, <AtomGroup with 6 atoms>,\n",
       "        5.997284034065494],\n",
       "       [32.0, <AtomGroup with 6 atoms>, <AtomGroup with 6 atoms>,\n",
       "        5.7258215042806],\n",
       "       [33.0, <AtomGroup with 6 atoms>, <AtomGroup with 6 atoms>,\n",
       "        5.3100263210363625],\n",
       "       [35.0, <AtomGroup with 6 atoms>, <AtomGroup with 6 atoms>,\n",
       "        4.659635419528239],\n",
       "       [37.0, <AtomGroup with 6 atoms>, <AtomGroup with 6 atoms>,\n",
       "        5.851270268071206],\n",
       "       [38.0, <AtomGroup with 6 atoms>, <AtomGroup with 6 atoms>,\n",
       "        5.990982434153431],\n",
       "       [39.0, <AtomGroup with 6 atoms>, <AtomGroup with 6 atoms>,\n",
       "        4.941750719557928],\n",
       "       [40.0, <AtomGroup with 6 atoms>, <AtomGroup with 6 atoms>,\n",
       "        4.3169289484021105],\n",
       "       [41.0, <AtomGroup with 6 atoms>, <AtomGroup with 6 atoms>,\n",
       "        5.190516235688851],\n",
       "       [43.0, <AtomGroup with 6 atoms>, <AtomGroup with 6 atoms>,\n",
       "        5.018192041600162],\n",
       "       [44.0, <AtomGroup with 6 atoms>, <AtomGroup with 6 atoms>,\n",
       "        5.23777197055054],\n",
       "       [44.0, <AtomGroup with 6 atoms>, <AtomGroup with 6 atoms>,\n",
       "        5.7831329126737945],\n",
       "       [45.0, <AtomGroup with 6 atoms>, <AtomGroup with 6 atoms>,\n",
       "        5.643456424222058],\n",
       "       [46.0, <AtomGroup with 6 atoms>, <AtomGroup with 6 atoms>,\n",
       "        3.9233039893968598],\n",
       "       [46.0, <AtomGroup with 6 atoms>, <AtomGroup with 6 atoms>,\n",
       "        5.599307909170859],\n",
       "       [47.0, <AtomGroup with 6 atoms>, <AtomGroup with 6 atoms>,\n",
       "        5.279638552445541],\n",
       "       [48.0, <AtomGroup with 6 atoms>, <AtomGroup with 6 atoms>,\n",
       "        5.856928933838881],\n",
       "       [48.0, <AtomGroup with 6 atoms>, <AtomGroup with 6 atoms>,\n",
       "        4.545869378723104],\n",
       "       [49.0, <AtomGroup with 6 atoms>, <AtomGroup with 6 atoms>,\n",
       "        4.786704234802413],\n",
       "       [50.0, <AtomGroup with 6 atoms>, <AtomGroup with 6 atoms>,\n",
       "        5.188633646654491],\n",
       "       [50.0, <AtomGroup with 6 atoms>, <AtomGroup with 6 atoms>,\n",
       "        3.995503733472467],\n",
       "       [51.0, <AtomGroup with 6 atoms>, <AtomGroup with 6 atoms>,\n",
       "        3.800812575237846],\n",
       "       [51.0, <AtomGroup with 6 atoms>, <AtomGroup with 6 atoms>,\n",
       "        5.361817084781341],\n",
       "       [52.0, <AtomGroup with 6 atoms>, <AtomGroup with 6 atoms>,\n",
       "        5.031071999264548],\n",
       "       [55.0, <AtomGroup with 6 atoms>, <AtomGroup with 6 atoms>,\n",
       "        4.237838859025491],\n",
       "       [55.0, <AtomGroup with 6 atoms>, <AtomGroup with 6 atoms>,\n",
       "        4.562395921399078],\n",
       "       [55.0, <AtomGroup with 6 atoms>, <AtomGroup with 6 atoms>,\n",
       "        4.7261735521554264],\n",
       "       [55.0, <AtomGroup with 6 atoms>, <AtomGroup with 6 atoms>,\n",
       "        5.9108091542070635],\n",
       "       [56.0, <AtomGroup with 6 atoms>, <AtomGroup with 6 atoms>,\n",
       "        5.725706879843609],\n",
       "       [56.0, <AtomGroup with 6 atoms>, <AtomGroup with 6 atoms>,\n",
       "        5.533252832746673],\n",
       "       [56.0, <AtomGroup with 6 atoms>, <AtomGroup with 6 atoms>,\n",
       "        5.962705149833592],\n",
       "       [56.0, <AtomGroup with 6 atoms>, <AtomGroup with 6 atoms>,\n",
       "        4.990533488995241],\n",
       "       [57.0, <AtomGroup with 6 atoms>, <AtomGroup with 6 atoms>,\n",
       "        5.532598963884702],\n",
       "       [57.0, <AtomGroup with 6 atoms>, <AtomGroup with 6 atoms>,\n",
       "        5.586600430296474],\n",
       "       [58.0, <AtomGroup with 6 atoms>, <AtomGroup with 6 atoms>,\n",
       "        5.336546268647692],\n",
       "       [58.0, <AtomGroup with 6 atoms>, <AtomGroup with 6 atoms>,\n",
       "        5.431223860097537],\n",
       "       [59.0, <AtomGroup with 6 atoms>, <AtomGroup with 6 atoms>,\n",
       "        5.162150956373434]], dtype=object)"
      ]
     },
     "execution_count": 35,
     "metadata": {},
     "output_type": "execute_result"
    }
   ],
   "source": [
    "pi_pi_bonds.results['pi_pi_bonds']"
   ]
  },
  {
   "cell_type": "code",
   "execution_count": 36,
   "metadata": {
    "scrolled": true
   },
   "outputs": [
    {
     "data": {
      "text/plain": [
       "[0,\n",
       " 0,\n",
       " 2,\n",
       " 1,\n",
       " 2,\n",
       " 3,\n",
       " 0,\n",
       " 1,\n",
       " 3,\n",
       " 2,\n",
       " 2,\n",
       " 1,\n",
       " 0,\n",
       " 1,\n",
       " 1,\n",
       " 1,\n",
       " 1,\n",
       " 1,\n",
       " 0,\n",
       " 0,\n",
       " 0,\n",
       " 2,\n",
       " 1,\n",
       " 1,\n",
       " 0,\n",
       " 1,\n",
       " 1,\n",
       " 1,\n",
       " 1,\n",
       " 1,\n",
       " 0,\n",
       " 1,\n",
       " 1,\n",
       " 1,\n",
       " 0,\n",
       " 1,\n",
       " 0,\n",
       " 1,\n",
       " 1,\n",
       " 1,\n",
       " 1,\n",
       " 1,\n",
       " 0,\n",
       " 1,\n",
       " 2,\n",
       " 1,\n",
       " 2,\n",
       " 1,\n",
       " 2,\n",
       " 1,\n",
       " 2,\n",
       " 2,\n",
       " 1,\n",
       " 0,\n",
       " 0,\n",
       " 4,\n",
       " 4,\n",
       " 2,\n",
       " 2,\n",
       " 1]"
      ]
     },
     "execution_count": 36,
     "metadata": {},
     "output_type": "execute_result"
    }
   ],
   "source": [
    "pi_pi_bonds.results['pi_pi_bond_counts']"
   ]
  },
  {
   "cell_type": "code",
   "execution_count": 37,
   "metadata": {
    "scrolled": false
   },
   "outputs": [
    {
     "data": {
      "text/plain": [
       "array([     0.,   2500.,   5000.,   7500.,  10000.,  12500.,  15000.,\n",
       "        17500.,  20000.,  22500.,  25000.,  27500.,  30000.,  32500.,\n",
       "        35000.,  37500.,  40000.,  42500.,  45000.,  47500.,  50000.,\n",
       "        52500.,  55000.,  57500.,  60000.,  62500.,  65000.,  67500.,\n",
       "        70000.,  72500.,  75000.,  77500.,  80000.,  82500.,  85000.,\n",
       "        87500.,  90000.,  92500.,  95000.,  97500., 100000., 102500.,\n",
       "       105000., 107500., 110000., 112500., 115000., 117500., 120000.,\n",
       "       122500., 125000., 127500., 130000., 132500., 135000., 137500.,\n",
       "       140000., 142500., 145000., 147500.])"
      ]
     },
     "execution_count": 37,
     "metadata": {},
     "output_type": "execute_result"
    }
   ],
   "source": [
    "pi_pi_bonds.times"
   ]
  },
  {
   "cell_type": "markdown",
   "metadata": {},
   "source": [
    "## Plotting the Results"
   ]
  },
  {
   "cell_type": "markdown",
   "metadata": {},
   "source": [
    "The total number of pi pi bonds detected at each frame is plotted below."
   ]
  },
  {
   "cell_type": "code",
   "execution_count": 38,
   "metadata": {},
   "outputs": [
    {
     "data": {
      "image/png": "[encoded data removed]",
      "text/plain": [
       "<Figure size 720x288 with 1 Axes>"
      ]
     },
     "metadata": {
      "needs_background": "light"
     },
     "output_type": "display_data"
    }
   ],
   "source": [
    "fig = plt.figure(figsize=([10,4]))\n",
    "plt.plot(pi_pi_bonds.times/1000, pi_pi_bonds.results['pi_pi_bond_counts'])\n",
    "plt.axhline(y=sum(pi_pi_bonds.results['pi_pi_bond_counts'])/len(pi_pi_bonds.results['pi_pi_bond_counts']),label=None,c='blue')\n",
    "plt.xlabel('Time (ns)',fontweight='bold',fontsize=16)\n",
    "plt.ylabel(f'\\u03C0-\\u03C0 Bond Count',fontweight='bold',fontsize=16)\n",
    "# plt.ylim([0,10])\n",
    "plt.xlim([0,150])\n",
    "plt.xticks(fontsize=14)\n",
    "plt.yticks(fontsize=14)\n",
    "plt.tight_layout()\n",
    "plt.savefig(f'{out_path}/pi_pi_150ns_plot.jpeg') # Print plot to {out_path}/pi_pi_150ns_plot.jpeg\n",
    "plt.show()"
   ]
  },
  {
   "cell_type": "code",
   "execution_count": null,
   "metadata": {},
   "outputs": [],
   "source": []
  }
 ],
 "metadata": {
  "kernelspec": {
   "display_name": "mdaenv",
   "language": "python",
   "name": "mdaenv"
  },
  "language_info": {
   "codemirror_mode": {
    "name": "ipython",
    "version": 3
   },
   "file_extension": ".py",
   "mimetype": "text/x-python",
   "name": "python",
   "nbconvert_exporter": "python",
   "pygments_lexer": "ipython3",
   "version": "3.8.12"
  }
 },
 "nbformat": 4,
 "nbformat_minor": 2
}
